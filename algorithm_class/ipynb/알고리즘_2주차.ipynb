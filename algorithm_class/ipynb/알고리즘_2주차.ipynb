{
  "nbformat": 4,
  "nbformat_minor": 0,
  "metadata": {
    "colab": {
      "provenance": [],
      "collapsed_sections": [],
      "authorship_tag": "ABX9TyOo8l2uWnrKBcxa6UIM9faZ",
      "include_colab_link": true
    },
    "kernelspec": {
      "name": "python3",
      "display_name": "Python 3"
    },
    "language_info": {
      "name": "python"
    }
  },
  "cells": [
    {
      "cell_type": "markdown",
      "metadata": {
        "id": "view-in-github",
        "colab_type": "text"
      },
      "source": [
        "<a href=\"https://colab.research.google.com/github/Swalbak/Swalbak.github.io/blob/main/algorithm_class/ipynb/%EC%95%8C%EA%B3%A0%EB%A6%AC%EC%A6%98_2%EC%A3%BC%EC%B0%A8.ipynb\" target=\"_parent\"><img src=\"https://colab.research.google.com/assets/colab-badge.svg\" alt=\"Open In Colab\"/></a>"
      ]
    },
    {
      "cell_type": "markdown",
      "source": [
        "1. 10개의 수를 입력받아 리스트(list)에 저장하시오."
      ],
      "metadata": {
        "id": "Kf_eeOvkqvXp"
      }
    },
    {
      "cell_type": "code",
      "execution_count": null,
      "metadata": {
        "colab": {
          "base_uri": "https://localhost:8080/"
        },
        "id": "-kKGmzvZqqDe",
        "outputId": "ff9b1a30-3e6b-4bba-aadb-eccc09559750"
      },
      "outputs": [
        {
          "name": "stdout",
          "output_type": "stream",
          "text": [
            "10개의 수 입력: 1 2 3 4 5 6 7 8 9 10\n"
          ]
        },
        {
          "output_type": "execute_result",
          "data": {
            "text/plain": [
              "[1, 2, 3, 4, 5, 6, 7, 8, 9, 10]"
            ]
          },
          "metadata": {},
          "execution_count": 9
        }
      ],
      "source": [
        "input_str = input(\"10개의 수 입력: \")\n",
        "input_list = list(map(lambda x: int(x), input_str.split(\" \")))\n",
        "input_list"
      ]
    },
    {
      "cell_type": "markdown",
      "source": [
        "1-1. 리스트의 원소를 역순(reverse)으로 출력하시오."
      ],
      "metadata": {
        "id": "7mP5yAw-snZw"
      }
    },
    {
      "cell_type": "code",
      "source": [
        "input_list = input_list[::-1]\n",
        "print(input_list)"
      ],
      "metadata": {
        "colab": {
          "base_uri": "https://localhost:8080/"
        },
        "id": "ZVdvqbvHslnQ",
        "outputId": "a0537aae-07e6-4e6d-b4b6-3e5a354ec4b7"
      },
      "execution_count": null,
      "outputs": [
        {
          "output_type": "stream",
          "name": "stdout",
          "text": [
            "[10, 9, 8, 7, 6, 5, 4, 3, 2, 1]\n"
          ]
        }
      ]
    },
    {
      "cell_type": "markdown",
      "source": [
        "1-2. 10개의 수 중 최댓값을 찾고 최댓값의 위치(인덱스)를 출력하시오."
      ],
      "metadata": {
        "id": "X7my0TMEstl3"
      }
    },
    {
      "cell_type": "code",
      "source": [
        "max_index = 0\n",
        "max_num = input_list[0]\n",
        "for i in range(1, len(input_list)):\n",
        "    if input_list[i]>max_num:\n",
        "        max_index = i\n",
        "        max_num = input_list[i]\n",
        "print(f\"{max_num}(최댓값), {max_index}(인덱스)\")"
      ],
      "metadata": {
        "colab": {
          "base_uri": "https://localhost:8080/"
        },
        "id": "4NYq6dcjswuX",
        "outputId": "460eb811-ced7-4119-d476-463258394284"
      },
      "execution_count": null,
      "outputs": [
        {
          "output_type": "stream",
          "name": "stdout",
          "text": [
            "10(최댓값), 0(인덱스)\n"
          ]
        }
      ]
    },
    {
      "cell_type": "markdown",
      "source": [
        "2. 0부터 100 사이의 수를 입력 받은 후, 등급을 출력하시오.\n",
        "    * A: 90 이상, B: 80이상 90미만, C: 70이상 80미만, D: 기타"
      ],
      "metadata": {
        "id": "sErLbkKKt45Q"
      }
    },
    {
      "cell_type": "code",
      "source": [
        "score = int(input(\"점수 입력: \"))\n",
        "\n",
        "grade = 65\n",
        "num = abs(99-score)//10\n",
        "grade_ASCII = grade+num if num<3 else grade+3\n",
        "\n",
        "print(chr(grade_ASCII))"
      ],
      "metadata": {
        "colab": {
          "base_uri": "https://localhost:8080/"
        },
        "id": "7k0qH8JMt6Jf",
        "outputId": "ba443702-7915-42cc-c940-55f733d6d563"
      },
      "execution_count": null,
      "outputs": [
        {
          "output_type": "stream",
          "name": "stdout",
          "text": [
            "점수 입력: 20\n",
            "D\n"
          ]
        }
      ]
    },
    {
      "cell_type": "markdown",
      "source": [
        "3. 0부터 100 사이의 임의의 정수 50개를 생성한 후, 동일한 값의 존재 유무\n",
        "를 확인하는 알고리즘을 구현하시오."
      ],
      "metadata": {
        "id": "K1a_kHlov6NZ"
      }
    },
    {
      "cell_type": "code",
      "source": [
        "import random\n",
        "\n",
        "random_array = [random.randrange(0, 100) for _ in range(50)]\n",
        "visited_array = []\n",
        "\n",
        "for num in random_array:\n",
        "    if num in visited_array:\n",
        "        break\n",
        "    else:\n",
        "        visited_array.append(num)\n",
        "\n",
        "if len(visited_array) == len(random_array):\n",
        "    print('O')\n",
        "else:\n",
        "    print('X')"
      ],
      "metadata": {
        "colab": {
          "base_uri": "https://localhost:8080/"
        },
        "id": "9z2M17n7vyj5",
        "outputId": "523cb40c-ec91-4eca-b409-fec4d514ebbe"
      },
      "execution_count": null,
      "outputs": [
        {
          "output_type": "stream",
          "name": "stdout",
          "text": [
            "X\n"
          ]
        }
      ]
    },
    {
      "cell_type": "markdown",
      "source": [
        "4. 입력 받은 임의의 양의 정수가 소수인지 아닌지 판별하는 알고리즘을 구현\n",
        "하시오."
      ],
      "metadata": {
        "id": "x-zXLrjpyOD_"
      }
    },
    {
      "cell_type": "code",
      "source": [
        "num = int(input(\"양의 정수 입력: \"))\n",
        "is_prime = True\n",
        "for i in range(2, num//2+1):\n",
        "    if num%i == 0:\n",
        "        is_prime = False\n",
        "        break\n",
        "\n",
        "print(\"소수입니다.\") if is_prime else print(\"소수가 아닙니다.\")\n",
        "        "
      ],
      "metadata": {
        "id": "coBAuraQyP9Q",
        "colab": {
          "base_uri": "https://localhost:8080/"
        },
        "outputId": "c4655b8f-5bb6-4ad0-98bd-5801c7517300"
      },
      "execution_count": null,
      "outputs": [
        {
          "output_type": "stream",
          "name": "stdout",
          "text": [
            "양의 정수 입력: 4\n",
            "소수가 아닙니다.\n"
          ]
        }
      ]
    },
    {
      "cell_type": "markdown",
      "source": [
        "5. for문을 사용하여 다음과 같이 출력하시오."
      ],
      "metadata": {
        "id": "cM3dNaQ9zBOv"
      }
    },
    {
      "cell_type": "code",
      "source": [
        "num = 9\n",
        "\n",
        "for st in range(1, num+1, 2):\n",
        "    print(\" \" * ((num-st)//2), end=\"\")\n",
        "    print(\"*\"* st)\n",
        "\n",
        "for st in range(num, 0, -2):\n",
        "    print(\" \" * ((num-st)//2), end=\"\")\n",
        "    print(\"*\"* st)"
      ],
      "metadata": {
        "colab": {
          "base_uri": "https://localhost:8080/"
        },
        "id": "7LPnvyFyzDaP",
        "outputId": "61293af7-bb17-4e82-9b9a-7a404a8e52a9"
      },
      "execution_count": null,
      "outputs": [
        {
          "output_type": "stream",
          "name": "stdout",
          "text": [
            "    *\n",
            "   ***\n",
            "  *****\n",
            " *******\n",
            "*********\n",
            "*********\n",
            " *******\n",
            "  *****\n",
            "   ***\n",
            "    *\n"
          ]
        }
      ]
    },
    {
      "cell_type": "markdown",
      "source": [
        "6. 패턴을 압축하는 알고리즘을 구현하시오."
      ],
      "metadata": {
        "id": "CBnAIED22fpX"
      }
    },
    {
      "cell_type": "code",
      "source": [
        "pat = input(\"패턴 입력\")\n",
        "\n",
        "point = 0\n",
        "result = \"\"\n",
        "for i in range(len(pat)):\n",
        "    if pat[point] != pat[i]:\n",
        "        result += f\"{pat[point]}{i-point}\"\n",
        "        point = i\n",
        "result += f\"{pat[point]}{len(pat)-point}\"\n",
        "\n",
        "print(result)"
      ],
      "metadata": {
        "colab": {
          "base_uri": "https://localhost:8080/"
        },
        "id": "jjVbhoBH2izQ",
        "outputId": "1187bba0-e22e-4210-d7e9-7ec172a5fe9d"
      },
      "execution_count": null,
      "outputs": [
        {
          "output_type": "stream",
          "name": "stdout",
          "text": [
            "패턴 입력aaaaabbbccccccddddddddd\n",
            "a5b3c6d9\n"
          ]
        }
      ]
    },
    {
      "cell_type": "markdown",
      "source": [
        "7. 키보드로부터 다음의 조건을 만족하도록 문자를 입력 받고, 대소문자를 변\n",
        "환하는 알고리즘을 구현하시오."
      ],
      "metadata": {
        "id": "n3btc-2G47c2"
      }
    },
    {
      "cell_type": "code",
      "source": [
        "is_cap_alpha = False\n",
        "is_num = False\n",
        "is_sm_alpha = False\n",
        "is_sp = False\n",
        "\n",
        "while(not (is_cap_alpha and is_num and is_sm_alpha and is_sp)):\n",
        "    input_str = input(\"문자열 입력: \")\n",
        "\n",
        "    is_cap_alpha = False\n",
        "    is_num = False\n",
        "    is_sm_alpha = False\n",
        "    is_sp = False\n",
        "    res = \"\"\n",
        "\n",
        "    for s in input_str:\n",
        "        str_ascii = ord(s)\n",
        "        if 129 > str_ascii and str_ascii > 96:\n",
        "            res += chr(str_ascii-32)\n",
        "            is_sm_alpha = True\n",
        "\n",
        "        elif str_ascii > 64:\n",
        "            res += chr(str_ascii+32)\n",
        "            is_cap_alpha = True\n",
        "\n",
        "        elif str_ascii > 47 and str_ascii < 58:\n",
        "            is_num = True\n",
        "            res += chr(str_ascii)\n",
        "\n",
        "        else:\n",
        "            res += chr(str_ascii)\n",
        "            is_sp = True\n",
        "print(res)"
      ],
      "metadata": {
        "colab": {
          "base_uri": "https://localhost:8080/"
        },
        "id": "00BKrjhT49gO",
        "outputId": "ca551785-037d-42d4-cea7-689bb93a93da"
      },
      "execution_count": null,
      "outputs": [
        {
          "output_type": "stream",
          "name": "stdout",
          "text": [
            "문자열 입력: HANBAT!!22Fall\n",
            "hanbat!!22fALL\n"
          ]
        }
      ]
    },
    {
      "cell_type": "markdown",
      "source": [
        "8. 1부터 100 사이의 자연수가 적힌 N장의 카드가 있습니다. 이 중 3장을 뽑아 각 카드에 적힌 수를 합한 값의 모든 경우의 수를 기록하고, K번째로 큰 수를 출력"
      ],
      "metadata": {
        "id": "41_g72Hr9xQN"
      }
    },
    {
      "cell_type": "code",
      "source": [
        "# n_k = input(\"N과 k를 입력: \")\n",
        "# card_str = input(\"카드 번호를 입력\")\n",
        "n_k = '10 3'\n",
        "card_str = '18 54 46 52 28 22 23 53 28 40'\n",
        "n, k, *card = map(lambda x: int(x), (n_k+\" \"+card_str).split(\" \"))\n",
        "\n",
        "card.sort(reverse = True)\n",
        "print(card)\n",
        "sum_list = []\n",
        "card_list = [0, 1, 2]\n",
        "\n",
        "for i in range(0, len(card)-2):\n",
        "    for k in range(i+1, len(card)-1):\n",
        "        for j in range(k+1, len(card)):\n",
        "            sum = card[i] + card[k] + card[j]\n",
        "            if sum not in sum_list:\n",
        "                sum_list.append(sum)\n",
        "print(sorted(sum_list, reverse=True))\n",
        "    "
      ],
      "metadata": {
        "colab": {
          "base_uri": "https://localhost:8080/"
        },
        "id": "wBKHc44a9w3u",
        "outputId": "1ffe1b09-e450-437e-9bbc-ceba62243aa8"
      },
      "execution_count": null,
      "outputs": [
        {
          "output_type": "stream",
          "name": "stdout",
          "text": [
            "[54, 53, 52, 46, 40, 28, 28, 23, 22, 18]\n",
            "[159, 153, 152, 151, 147, 146, 145, 140, 139, 138, 135, 134, 133, 130, 129, 128, 127, 126, 125, 124, 123, 122, 121, 120, 118, 117, 116, 115, 114, 112, 111, 110, 109, 108, 105, 104, 103, 102, 100, 99, 98, 97, 96, 95, 94, 93, 92, 91, 90, 87, 86, 85, 81, 80, 79, 78, 74, 73, 69, 68, 63]\n"
          ]
        }
      ]
    }
  ]
}