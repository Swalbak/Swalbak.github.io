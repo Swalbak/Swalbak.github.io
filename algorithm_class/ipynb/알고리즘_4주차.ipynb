{
  "nbformat": 4,
  "nbformat_minor": 0,
  "metadata": {
    "colab": {
      "provenance": [],
      "collapsed_sections": [],
      "authorship_tag": "ABX9TyM2dscGHNGcb1AsGvYwA1ov",
      "include_colab_link": true
    },
    "kernelspec": {
      "name": "python3",
      "display_name": "Python 3"
    },
    "language_info": {
      "name": "python"
    }
  },
  "cells": [
    {
      "cell_type": "markdown",
      "metadata": {
        "id": "view-in-github",
        "colab_type": "text"
      },
      "source": [
        "<a href=\"https://colab.research.google.com/github/Swalbak/Swalbak.github.io/blob/main/algorithm_class/ipynb/%EC%95%8C%EA%B3%A0%EB%A6%AC%EC%A6%98_4%EC%A3%BC%EC%B0%A8.ipynb\" target=\"_parent\"><img src=\"https://colab.research.google.com/assets/colab-badge.svg\" alt=\"Open In Colab\"/></a>"
      ]
    },
    {
      "cell_type": "markdown",
      "source": [
        "1. 삽입, 선택, 버블 정렬을 오름차순으로 구현하시오."
      ],
      "metadata": {
        "id": "nmBbUwzXwlPM"
      }
    },
    {
      "cell_type": "code",
      "source": [
        "array = [3, 1, 2, 5, 4]"
      ],
      "metadata": {
        "id": "5PXlIAh9A7R7"
      },
      "execution_count": null,
      "outputs": []
    },
    {
      "cell_type": "code",
      "execution_count": null,
      "metadata": {
        "id": "KcaOn5U7fxsr"
      },
      "outputs": [],
      "source": [
        "def sel_sort(array, reverse=False):\n",
        "\n",
        "    for i in range(len(array)-1):\n",
        "        for k in range(i+1, len(array)):\n",
        "            if not reverse:\n",
        "                # 최소값 왼쪽부터\n",
        "                if array[i] > array[k]:\n",
        "                    array[i], array[k] = array[k], array[i]\n",
        "            else:\n",
        "                if array[i] < array[k]:\n",
        "                    array[i], array[k] = array[k], array[i]\n",
        "            \n",
        "    \n",
        "    return array\n"
      ]
    },
    {
      "cell_type": "code",
      "source": [
        "array = [3, 1, 2, 5, 4]\n",
        "print(sel_sort(array))"
      ],
      "metadata": {
        "colab": {
          "base_uri": "https://localhost:8080/"
        },
        "id": "yqdPw_OYBKlz",
        "outputId": "a2588450-7852-44ac-b47c-b26918ebdb68"
      },
      "execution_count": null,
      "outputs": [
        {
          "output_type": "stream",
          "name": "stdout",
          "text": [
            "[1, 2, 3, 4, 5]\n"
          ]
        }
      ]
    },
    {
      "cell_type": "code",
      "source": [
        "def bub_sort(array, reverse=False):\n",
        "    # for i in range(len(array)-1):\n",
        "    #     for k in range(len(array)-1, i, -1):\n",
        "    for i in range(len(array)-1, 0, -1):\n",
        "        for k in range(i):\n",
        "            if not reverse:\n",
        "                if array[k+1] < array[k]:\n",
        "                    array[k+1], array[k] = array[k], array[k+1]\n",
        "            else:\n",
        "                if array[k+1] > array[k]:\n",
        "                    array[k+1], array[k] = array[k], array[k+1]\n",
        "    \n",
        "    return array"
      ],
      "metadata": {
        "id": "RMw5rRxU3alM"
      },
      "execution_count": 4,
      "outputs": []
    },
    {
      "cell_type": "code",
      "source": [
        "array = [3, 1, 2, 5, 4]\n",
        "print(bub_sort(array))"
      ],
      "metadata": {
        "colab": {
          "base_uri": "https://localhost:8080/"
        },
        "id": "a6IBguDxBSmr",
        "outputId": "a09b6c5f-a03f-4f7d-a79e-8b8a458babba"
      },
      "execution_count": 11,
      "outputs": [
        {
          "output_type": "stream",
          "name": "stdout",
          "text": [
            "[1, 2, 3, 4, 5]\n"
          ]
        }
      ]
    },
    {
      "cell_type": "code",
      "source": [
        "def ins_sort(array, reverse=False):\n",
        "    for i in range(1, len(array)):\n",
        "        for k in range(i, 0, -1):\n",
        "            if reverse:\n",
        "                if array[k-1] < array[k]:\n",
        "                    array[k-1], array[k] = array[k], array[k-1]\n",
        "            else:\n",
        "                if array[k-1] > array[k]:\n",
        "                    array[k-1], array[k] = array[k], array[k-1]\n",
        "\n",
        "    return array"
      ],
      "metadata": {
        "id": "qPoa73U78_F0"
      },
      "execution_count": null,
      "outputs": []
    },
    {
      "cell_type": "code",
      "source": [
        "array = [3, 1, 2, 5, 4]\n",
        "print(ins_sort(array))"
      ],
      "metadata": {
        "colab": {
          "base_uri": "https://localhost:8080/"
        },
        "id": "5gYpu24lBVmj",
        "outputId": "19b59615-132f-447a-caf2-9e981877e1a0"
      },
      "execution_count": null,
      "outputs": [
        {
          "output_type": "stream",
          "name": "stdout",
          "text": [
            "[1, 2, 3, 4, 5]\n"
          ]
        }
      ]
    },
    {
      "cell_type": "markdown",
      "source": [
        "2. N개의 숫자 중 K번째의 숫자를 출력하시오."
      ],
      "metadata": {
        "id": "p0Wzyn89Bamq"
      }
    },
    {
      "cell_type": "code",
      "source": [
        "N, K = map(int, input().split())\n",
        "num_list = list(map(int, input().split()))\n",
        "\n",
        "print(bub_sort(num_list, reverse=True)[K-1])"
      ],
      "metadata": {
        "colab": {
          "base_uri": "https://localhost:8080/"
        },
        "id": "SBN4p_XoAx9c",
        "outputId": "3e622fbb-9758-4a65-b98a-153f83175529"
      },
      "execution_count": null,
      "outputs": [
        {
          "output_type": "stream",
          "name": "stdout",
          "text": [
            "5 2\n",
            "100 76 85 93 98\n",
            "98\n"
          ]
        }
      ]
    },
    {
      "cell_type": "markdown",
      "source": [
        "3. 2차원 평면 위의 N개의 점의 좌표를 y좌표 기준으로 오름차순, 같다면 x 기준으로 오름차순"
      ],
      "metadata": {
        "id": "t88zmU1-C6xx"
      }
    },
    {
      "cell_type": "code",
      "source": [
        "def dem_sort(array, reverse=False):\n",
        "    for i in range(1, len(array)):\n",
        "        for k in range(i, 0, -1):\n",
        "            if array[k-1][1] > array[k][1]:\n",
        "                array[k-1], array[k] = array[k], array[k-1]\n",
        "            elif array[k-1][1] == array[k][1]:\n",
        "                if array[k-1][0] > array[k][0]:\n",
        "                    array[k-1], array[k] = array[k], array[k-1]\n",
        "\n",
        "    return array"
      ],
      "metadata": {
        "id": "aw9l3q3vEX-D"
      },
      "execution_count": 1,
      "outputs": []
    },
    {
      "cell_type": "code",
      "source": [
        "N = int(input())\n",
        "location_list = []\n",
        "for _ in range(N):\n",
        "    location_list.append(list(map(int, input().split())))\n",
        "for loc in dem_sort(location_list, reverse=True):\n",
        "    print(loc[0], loc[1])"
      ],
      "metadata": {
        "colab": {
          "base_uri": "https://localhost:8080/"
        },
        "id": "89l8B55CC508",
        "outputId": "6ad34b69-ba1c-4c48-e71c-a671ca561655"
      },
      "execution_count": 2,
      "outputs": [
        {
          "output_type": "stream",
          "name": "stdout",
          "text": [
            "5\n",
            "0 4\n",
            "1 2\n",
            "1 -1\n",
            "2 2\n",
            "3 3\n",
            "1 -1\n",
            "1 2\n",
            "2 2\n",
            "3 3\n",
            "0 4\n"
          ]
        }
      ]
    },
    {
      "cell_type": "markdown",
      "source": [
        "4. N개의 카드와 M개의 정수가 주어졌을 때 M개의 정수가 적혀 있는 숫자 카드가 몇 개 있는지 출력하시오."
      ],
      "metadata": {
        "id": "7XBx0QWRFmLC"
      }
    },
    {
      "cell_type": "code",
      "source": [
        "N = int(input())\n",
        "card_list = list(map(int, input().split()))\n",
        "M = int(input())\n",
        "num_list = list(map(int, input().split()))\n",
        "\n",
        "card_list = bub_sort(card_list)\n",
        "\n",
        "card_dict = {}\n",
        "key_index = 0\n",
        "for i in range(M):\n",
        "    if card_list[key_index] != card_list[i]:\n",
        "        card_dict[card_list[key_index]] = i-key_index\n",
        "        key_index = i\n",
        "card_dict[card_list[key_index]] = N - key_index\n",
        "\n",
        "for num in num_list:\n",
        "    if num in card_dict:\n",
        "        print(card_dict[num], end=\" \")\n",
        "    else:\n",
        "        print(0, end=\" \")"
      ],
      "metadata": {
        "colab": {
          "base_uri": "https://localhost:8080/"
        },
        "id": "91UaYybjFncS",
        "outputId": "9277ce7c-6716-4531-e37a-a96e3dde7607"
      },
      "execution_count": null,
      "outputs": [
        {
          "output_type": "stream",
          "name": "stdout",
          "text": [
            "10\n",
            "6 3 2 10 10 10 -10 -10 7 3\n",
            "8\n",
            "10 9 -5 2 3 4 5 -10\n",
            "3 0 0 1 2 0 0 2 "
          ]
        }
      ]
    },
    {
      "cell_type": "markdown",
      "source": [
        "5. X1, X2, ... 의 좌표가 주어질 때 Xi > Xj를 만족하는 서로 다른 좌표의 개수로 압축하시오."
      ],
      "metadata": {
        "id": "i_BpJozhIk2C"
      }
    },
    {
      "cell_type": "code",
      "source": [
        "N = int(input())\n",
        "loc_list = list(map(int, input().split()))\n",
        "\n",
        "sorted_loc_list = bub_sort(loc_list[:])\n",
        "\n",
        "loc_dict = {}\n",
        "dif_loc = sorted_loc_list[0]\n",
        "count = 0\n",
        "for loc in sorted_loc_list:\n",
        "    if dif_loc != loc:\n",
        "        count += 1\n",
        "        dif_loc = loc\n",
        "    loc_dict[loc] = count\n",
        "\n",
        "# for loc in sorted_loc_list:\n",
        "#     if dif_loc != loc:\n",
        "#         loc_dict[dif_loc] = count\n",
        "#         dif_loc = loc\n",
        "#         count += 1\n",
        "# loc_dict[sorted_loc_list[-1]] = count\n",
        "\n",
        "for loc in loc_list:\n",
        "    print(loc_dict[loc], end=\" \")"
      ],
      "metadata": {
        "colab": {
          "base_uri": "https://localhost:8080/"
        },
        "id": "C0WqA9tpIl6J",
        "outputId": "58be6d49-4b15-4356-d1c3-4da2dc1248de"
      },
      "execution_count": 18,
      "outputs": [
        {
          "output_type": "stream",
          "name": "stdout",
          "text": [
            "6\n",
            "1000 999 1000 999 1000 999\n",
            "1 0 1 0 1 0 "
          ]
        }
      ]
    }
  ]
}